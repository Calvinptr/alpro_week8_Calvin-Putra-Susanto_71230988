{
 "cells": [
  {
   "cell_type": "code",
   "execution_count": null,
   "id": "7885a6e4",
   "metadata": {},
   "outputs": [],
   "source": [
    "# latihan 8.1\n",
    "handle = open(\"satu.txt\", \"r\")\n",
    "handle2 = open(\"dua.txt\", \"r\")\n",
    "\n",
    "teks1 = handle.readlines()\n",
    "teks2 = handle2.readlines()\n",
    "\n",
    "pjg1 = len(teks1)\n",
    "pjg2 = len(teks2)\n",
    "pjgsemua = min(pjg1, pjg2)\n",
    "\n",
    "for i in range(pjgsemua):\n",
    "    if teks1[i] != teks2[i]:\n",
    "            print(f\"Kata yang berbeda ada pada baris: {i+1}\")\n",
    "            print(f\"Kata pada teks 1 adalah {teks1[i].strip()}, dan kata pada teks 2 adalah {teks2[i].strip()}\")"
   ]
  },
  {
   "cell_type": "code",
   "execution_count": null,
   "id": "c9f25326",
   "metadata": {},
   "outputs": [],
   "source": [
    "# latihan 8.2\n",
    "fileName = input(\"nama file1: \")\n",
    "bukaFile = open(f\"{fileName}\", \"r\")\n",
    "baca = bukaFile.readlines()\n",
    "for i in range(len(baca)):\n",
    "    bagi =  baca[i].strip().split(\"|| \")\n",
    "    indeks1 = bagi[1].lower()\n",
    "    soal = input(f\"{bagi[0]}\\nJawab: \")\n",
    "\n",
    "    if soal == indeks1:\n",
    "        print(\"Jawaban benar !\")\n",
    "    else:\n",
    "        print(\"Jawaban salah !\")"
   ]
  }
 ],
 "metadata": {
  "kernelspec": {
   "display_name": "Python 3 (ipykernel)",
   "language": "python",
   "name": "python3"
  },
  "language_info": {
   "codemirror_mode": {
    "name": "ipython",
    "version": 3
   },
   "file_extension": ".py",
   "mimetype": "text/x-python",
   "name": "python",
   "nbconvert_exporter": "python",
   "pygments_lexer": "ipython3",
   "version": "3.11.5"
  }
 },
 "nbformat": 4,
 "nbformat_minor": 5
}
